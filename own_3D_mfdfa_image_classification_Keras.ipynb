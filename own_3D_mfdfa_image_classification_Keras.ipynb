{
  "nbformat": 4,
  "nbformat_minor": 0,
  "metadata": {
    "colab": {
      "name": "own_3D_mfdfa_image_classification_Keras",
      "provenance": [],
      "collapsed_sections": [],
      "include_colab_link": true
    },
    "kernelspec": {
      "display_name": "Python 3",
      "language": "python",
      "name": "python3"
    },
    "language_info": {
      "codemirror_mode": {
        "name": "ipython",
        "version": 3
      },
      "file_extension": ".py",
      "mimetype": "text/x-python",
      "name": "python",
      "nbconvert_exporter": "python",
      "pygments_lexer": "ipython3",
      "version": "3.7.0"
    },
    "accelerator": "GPU",
    "widgets": {
      "application/vnd.jupyter.widget-state+json": {
        "8054a755077148ad955b8f970d214fd6": {
          "model_module": "@jupyter-widgets/controls",
          "model_name": "HBoxModel",
          "model_module_version": "1.5.0",
          "state": {
            "_view_name": "HBoxView",
            "_dom_classes": [],
            "_model_name": "HBoxModel",
            "_view_module": "@jupyter-widgets/controls",
            "_model_module_version": "1.5.0",
            "_view_count": null,
            "_view_module_version": "1.5.0",
            "box_style": "",
            "layout": "IPY_MODEL_8e0c616028fc4333862b419edc217ea5",
            "_model_module": "@jupyter-widgets/controls",
            "children": [
              "IPY_MODEL_18462a331734494dbd5dc60892ca20f5",
              "IPY_MODEL_dffe35fde55c4539ae25a47c67239280",
              "IPY_MODEL_e214392138d34c0ca1ef072b8bdc8d79"
            ]
          }
        },
        "8e0c616028fc4333862b419edc217ea5": {
          "model_module": "@jupyter-widgets/base",
          "model_name": "LayoutModel",
          "model_module_version": "1.2.0",
          "state": {
            "_view_name": "LayoutView",
            "grid_template_rows": null,
            "right": null,
            "justify_content": null,
            "_view_module": "@jupyter-widgets/base",
            "overflow": null,
            "_model_module_version": "1.2.0",
            "_view_count": null,
            "flex_flow": null,
            "width": null,
            "min_width": null,
            "border": null,
            "align_items": null,
            "bottom": null,
            "_model_module": "@jupyter-widgets/base",
            "top": null,
            "grid_column": null,
            "overflow_y": null,
            "overflow_x": null,
            "grid_auto_flow": null,
            "grid_area": null,
            "grid_template_columns": null,
            "flex": null,
            "_model_name": "LayoutModel",
            "justify_items": null,
            "grid_row": null,
            "max_height": null,
            "align_content": null,
            "visibility": null,
            "align_self": null,
            "height": null,
            "min_height": null,
            "padding": null,
            "grid_auto_rows": null,
            "grid_gap": null,
            "max_width": null,
            "order": null,
            "_view_module_version": "1.2.0",
            "grid_template_areas": null,
            "object_position": null,
            "object_fit": null,
            "grid_auto_columns": null,
            "margin": null,
            "display": null,
            "left": null
          }
        },
        "18462a331734494dbd5dc60892ca20f5": {
          "model_module": "@jupyter-widgets/controls",
          "model_name": "HTMLModel",
          "model_module_version": "1.5.0",
          "state": {
            "_view_name": "HTMLView",
            "style": "IPY_MODEL_1f30dbd12d514766affc9fa38509dd7f",
            "_dom_classes": [],
            "description": "",
            "_model_name": "HTMLModel",
            "placeholder": "​",
            "_view_module": "@jupyter-widgets/controls",
            "_model_module_version": "1.5.0",
            "value": "100%",
            "_view_count": null,
            "_view_module_version": "1.5.0",
            "description_tooltip": null,
            "_model_module": "@jupyter-widgets/controls",
            "layout": "IPY_MODEL_9c0c269005024e988893b18f01c4958e"
          }
        },
        "dffe35fde55c4539ae25a47c67239280": {
          "model_module": "@jupyter-widgets/controls",
          "model_name": "FloatProgressModel",
          "model_module_version": "1.5.0",
          "state": {
            "_view_name": "ProgressView",
            "style": "IPY_MODEL_2364abda53cc4ee38ae31d3fe8f2a974",
            "_dom_classes": [],
            "description": "",
            "_model_name": "FloatProgressModel",
            "bar_style": "success",
            "max": 31,
            "_view_module": "@jupyter-widgets/controls",
            "_model_module_version": "1.5.0",
            "value": 31,
            "_view_count": null,
            "_view_module_version": "1.5.0",
            "orientation": "horizontal",
            "min": 0,
            "description_tooltip": null,
            "_model_module": "@jupyter-widgets/controls",
            "layout": "IPY_MODEL_a73fc25f36634794a631d6c0b793576e"
          }
        },
        "e214392138d34c0ca1ef072b8bdc8d79": {
          "model_module": "@jupyter-widgets/controls",
          "model_name": "HTMLModel",
          "model_module_version": "1.5.0",
          "state": {
            "_view_name": "HTMLView",
            "style": "IPY_MODEL_92671962b7324680bf261392028f2734",
            "_dom_classes": [],
            "description": "",
            "_model_name": "HTMLModel",
            "placeholder": "​",
            "_view_module": "@jupyter-widgets/controls",
            "_model_module_version": "1.5.0",
            "value": " 31/31 [07:19&lt;00:00, 14.98s/it]",
            "_view_count": null,
            "_view_module_version": "1.5.0",
            "description_tooltip": null,
            "_model_module": "@jupyter-widgets/controls",
            "layout": "IPY_MODEL_4ae8d8fe274a470c8ba5a42faff09c8c"
          }
        },
        "1f30dbd12d514766affc9fa38509dd7f": {
          "model_module": "@jupyter-widgets/controls",
          "model_name": "DescriptionStyleModel",
          "model_module_version": "1.5.0",
          "state": {
            "_view_name": "StyleView",
            "_model_name": "DescriptionStyleModel",
            "description_width": "",
            "_view_module": "@jupyter-widgets/base",
            "_model_module_version": "1.5.0",
            "_view_count": null,
            "_view_module_version": "1.2.0",
            "_model_module": "@jupyter-widgets/controls"
          }
        },
        "9c0c269005024e988893b18f01c4958e": {
          "model_module": "@jupyter-widgets/base",
          "model_name": "LayoutModel",
          "model_module_version": "1.2.0",
          "state": {
            "_view_name": "LayoutView",
            "grid_template_rows": null,
            "right": null,
            "justify_content": null,
            "_view_module": "@jupyter-widgets/base",
            "overflow": null,
            "_model_module_version": "1.2.0",
            "_view_count": null,
            "flex_flow": null,
            "width": null,
            "min_width": null,
            "border": null,
            "align_items": null,
            "bottom": null,
            "_model_module": "@jupyter-widgets/base",
            "top": null,
            "grid_column": null,
            "overflow_y": null,
            "overflow_x": null,
            "grid_auto_flow": null,
            "grid_area": null,
            "grid_template_columns": null,
            "flex": null,
            "_model_name": "LayoutModel",
            "justify_items": null,
            "grid_row": null,
            "max_height": null,
            "align_content": null,
            "visibility": null,
            "align_self": null,
            "height": null,
            "min_height": null,
            "padding": null,
            "grid_auto_rows": null,
            "grid_gap": null,
            "max_width": null,
            "order": null,
            "_view_module_version": "1.2.0",
            "grid_template_areas": null,
            "object_position": null,
            "object_fit": null,
            "grid_auto_columns": null,
            "margin": null,
            "display": null,
            "left": null
          }
        },
        "2364abda53cc4ee38ae31d3fe8f2a974": {
          "model_module": "@jupyter-widgets/controls",
          "model_name": "ProgressStyleModel",
          "model_module_version": "1.5.0",
          "state": {
            "_view_name": "StyleView",
            "_model_name": "ProgressStyleModel",
            "description_width": "",
            "_view_module": "@jupyter-widgets/base",
            "_model_module_version": "1.5.0",
            "_view_count": null,
            "_view_module_version": "1.2.0",
            "bar_color": null,
            "_model_module": "@jupyter-widgets/controls"
          }
        },
        "a73fc25f36634794a631d6c0b793576e": {
          "model_module": "@jupyter-widgets/base",
          "model_name": "LayoutModel",
          "model_module_version": "1.2.0",
          "state": {
            "_view_name": "LayoutView",
            "grid_template_rows": null,
            "right": null,
            "justify_content": null,
            "_view_module": "@jupyter-widgets/base",
            "overflow": null,
            "_model_module_version": "1.2.0",
            "_view_count": null,
            "flex_flow": null,
            "width": null,
            "min_width": null,
            "border": null,
            "align_items": null,
            "bottom": null,
            "_model_module": "@jupyter-widgets/base",
            "top": null,
            "grid_column": null,
            "overflow_y": null,
            "overflow_x": null,
            "grid_auto_flow": null,
            "grid_area": null,
            "grid_template_columns": null,
            "flex": null,
            "_model_name": "LayoutModel",
            "justify_items": null,
            "grid_row": null,
            "max_height": null,
            "align_content": null,
            "visibility": null,
            "align_self": null,
            "height": null,
            "min_height": null,
            "padding": null,
            "grid_auto_rows": null,
            "grid_gap": null,
            "max_width": null,
            "order": null,
            "_view_module_version": "1.2.0",
            "grid_template_areas": null,
            "object_position": null,
            "object_fit": null,
            "grid_auto_columns": null,
            "margin": null,
            "display": null,
            "left": null
          }
        },
        "92671962b7324680bf261392028f2734": {
          "model_module": "@jupyter-widgets/controls",
          "model_name": "DescriptionStyleModel",
          "model_module_version": "1.5.0",
          "state": {
            "_view_name": "StyleView",
            "_model_name": "DescriptionStyleModel",
            "description_width": "",
            "_view_module": "@jupyter-widgets/base",
            "_model_module_version": "1.5.0",
            "_view_count": null,
            "_view_module_version": "1.2.0",
            "_model_module": "@jupyter-widgets/controls"
          }
        },
        "4ae8d8fe274a470c8ba5a42faff09c8c": {
          "model_module": "@jupyter-widgets/base",
          "model_name": "LayoutModel",
          "model_module_version": "1.2.0",
          "state": {
            "_view_name": "LayoutView",
            "grid_template_rows": null,
            "right": null,
            "justify_content": null,
            "_view_module": "@jupyter-widgets/base",
            "overflow": null,
            "_model_module_version": "1.2.0",
            "_view_count": null,
            "flex_flow": null,
            "width": null,
            "min_width": null,
            "border": null,
            "align_items": null,
            "bottom": null,
            "_model_module": "@jupyter-widgets/base",
            "top": null,
            "grid_column": null,
            "overflow_y": null,
            "overflow_x": null,
            "grid_auto_flow": null,
            "grid_area": null,
            "grid_template_columns": null,
            "flex": null,
            "_model_name": "LayoutModel",
            "justify_items": null,
            "grid_row": null,
            "max_height": null,
            "align_content": null,
            "visibility": null,
            "align_self": null,
            "height": null,
            "min_height": null,
            "padding": null,
            "grid_auto_rows": null,
            "grid_gap": null,
            "max_width": null,
            "order": null,
            "_view_module_version": "1.2.0",
            "grid_template_areas": null,
            "object_position": null,
            "object_fit": null,
            "grid_auto_columns": null,
            "margin": null,
            "display": null,
            "left": null
          }
        },
        "47f93c8ed5f04175805320562f5caf1f": {
          "model_module": "@jupyter-widgets/controls",
          "model_name": "HBoxModel",
          "model_module_version": "1.5.0",
          "state": {
            "_view_name": "HBoxView",
            "_dom_classes": [],
            "_model_name": "HBoxModel",
            "_view_module": "@jupyter-widgets/controls",
            "_model_module_version": "1.5.0",
            "_view_count": null,
            "_view_module_version": "1.5.0",
            "box_style": "",
            "layout": "IPY_MODEL_2e8e872294b64b8b86f2566858aa4e8e",
            "_model_module": "@jupyter-widgets/controls",
            "children": [
              "IPY_MODEL_9d953b93be6e47e489cf82a8e04d3444",
              "IPY_MODEL_6fc756bfa9c34a7bb7806fa643a5b698",
              "IPY_MODEL_03144b5011b04a64b18b79817ecb1265"
            ]
          }
        },
        "2e8e872294b64b8b86f2566858aa4e8e": {
          "model_module": "@jupyter-widgets/base",
          "model_name": "LayoutModel",
          "model_module_version": "1.2.0",
          "state": {
            "_view_name": "LayoutView",
            "grid_template_rows": null,
            "right": null,
            "justify_content": null,
            "_view_module": "@jupyter-widgets/base",
            "overflow": null,
            "_model_module_version": "1.2.0",
            "_view_count": null,
            "flex_flow": null,
            "width": null,
            "min_width": null,
            "border": null,
            "align_items": null,
            "bottom": null,
            "_model_module": "@jupyter-widgets/base",
            "top": null,
            "grid_column": null,
            "overflow_y": null,
            "overflow_x": null,
            "grid_auto_flow": null,
            "grid_area": null,
            "grid_template_columns": null,
            "flex": null,
            "_model_name": "LayoutModel",
            "justify_items": null,
            "grid_row": null,
            "max_height": null,
            "align_content": null,
            "visibility": null,
            "align_self": null,
            "height": null,
            "min_height": null,
            "padding": null,
            "grid_auto_rows": null,
            "grid_gap": null,
            "max_width": null,
            "order": null,
            "_view_module_version": "1.2.0",
            "grid_template_areas": null,
            "object_position": null,
            "object_fit": null,
            "grid_auto_columns": null,
            "margin": null,
            "display": null,
            "left": null
          }
        },
        "9d953b93be6e47e489cf82a8e04d3444": {
          "model_module": "@jupyter-widgets/controls",
          "model_name": "HTMLModel",
          "model_module_version": "1.5.0",
          "state": {
            "_view_name": "HTMLView",
            "style": "IPY_MODEL_4205131140b14b4391bda3267ee3a4d7",
            "_dom_classes": [],
            "description": "",
            "_model_name": "HTMLModel",
            "placeholder": "​",
            "_view_module": "@jupyter-widgets/controls",
            "_model_module_version": "1.5.0",
            "value": "100%",
            "_view_count": null,
            "_view_module_version": "1.5.0",
            "description_tooltip": null,
            "_model_module": "@jupyter-widgets/controls",
            "layout": "IPY_MODEL_4c16146be28f47c495bbb5235ce3ce70"
          }
        },
        "6fc756bfa9c34a7bb7806fa643a5b698": {
          "model_module": "@jupyter-widgets/controls",
          "model_name": "FloatProgressModel",
          "model_module_version": "1.5.0",
          "state": {
            "_view_name": "ProgressView",
            "style": "IPY_MODEL_245e93df7aad411a9df3f5288e1fa8bf",
            "_dom_classes": [],
            "description": "",
            "_model_name": "FloatProgressModel",
            "bar_style": "success",
            "max": 30,
            "_view_module": "@jupyter-widgets/controls",
            "_model_module_version": "1.5.0",
            "value": 30,
            "_view_count": null,
            "_view_module_version": "1.5.0",
            "orientation": "horizontal",
            "min": 0,
            "description_tooltip": null,
            "_model_module": "@jupyter-widgets/controls",
            "layout": "IPY_MODEL_a8e670e98f0245609ddaea0f5a83c182"
          }
        },
        "03144b5011b04a64b18b79817ecb1265": {
          "model_module": "@jupyter-widgets/controls",
          "model_name": "HTMLModel",
          "model_module_version": "1.5.0",
          "state": {
            "_view_name": "HTMLView",
            "style": "IPY_MODEL_9131afbe36774971916a199b3f1a4a9e",
            "_dom_classes": [],
            "description": "",
            "_model_name": "HTMLModel",
            "placeholder": "​",
            "_view_module": "@jupyter-widgets/controls",
            "_model_module_version": "1.5.0",
            "value": " 30/30 [07:20&lt;00:00, 10.63s/it]",
            "_view_count": null,
            "_view_module_version": "1.5.0",
            "description_tooltip": null,
            "_model_module": "@jupyter-widgets/controls",
            "layout": "IPY_MODEL_059edd4cba8e4c0084b1f4c94d4767df"
          }
        },
        "4205131140b14b4391bda3267ee3a4d7": {
          "model_module": "@jupyter-widgets/controls",
          "model_name": "DescriptionStyleModel",
          "model_module_version": "1.5.0",
          "state": {
            "_view_name": "StyleView",
            "_model_name": "DescriptionStyleModel",
            "description_width": "",
            "_view_module": "@jupyter-widgets/base",
            "_model_module_version": "1.5.0",
            "_view_count": null,
            "_view_module_version": "1.2.0",
            "_model_module": "@jupyter-widgets/controls"
          }
        },
        "4c16146be28f47c495bbb5235ce3ce70": {
          "model_module": "@jupyter-widgets/base",
          "model_name": "LayoutModel",
          "model_module_version": "1.2.0",
          "state": {
            "_view_name": "LayoutView",
            "grid_template_rows": null,
            "right": null,
            "justify_content": null,
            "_view_module": "@jupyter-widgets/base",
            "overflow": null,
            "_model_module_version": "1.2.0",
            "_view_count": null,
            "flex_flow": null,
            "width": null,
            "min_width": null,
            "border": null,
            "align_items": null,
            "bottom": null,
            "_model_module": "@jupyter-widgets/base",
            "top": null,
            "grid_column": null,
            "overflow_y": null,
            "overflow_x": null,
            "grid_auto_flow": null,
            "grid_area": null,
            "grid_template_columns": null,
            "flex": null,
            "_model_name": "LayoutModel",
            "justify_items": null,
            "grid_row": null,
            "max_height": null,
            "align_content": null,
            "visibility": null,
            "align_self": null,
            "height": null,
            "min_height": null,
            "padding": null,
            "grid_auto_rows": null,
            "grid_gap": null,
            "max_width": null,
            "order": null,
            "_view_module_version": "1.2.0",
            "grid_template_areas": null,
            "object_position": null,
            "object_fit": null,
            "grid_auto_columns": null,
            "margin": null,
            "display": null,
            "left": null
          }
        },
        "245e93df7aad411a9df3f5288e1fa8bf": {
          "model_module": "@jupyter-widgets/controls",
          "model_name": "ProgressStyleModel",
          "model_module_version": "1.5.0",
          "state": {
            "_view_name": "StyleView",
            "_model_name": "ProgressStyleModel",
            "description_width": "",
            "_view_module": "@jupyter-widgets/base",
            "_model_module_version": "1.5.0",
            "_view_count": null,
            "_view_module_version": "1.2.0",
            "bar_color": null,
            "_model_module": "@jupyter-widgets/controls"
          }
        },
        "a8e670e98f0245609ddaea0f5a83c182": {
          "model_module": "@jupyter-widgets/base",
          "model_name": "LayoutModel",
          "model_module_version": "1.2.0",
          "state": {
            "_view_name": "LayoutView",
            "grid_template_rows": null,
            "right": null,
            "justify_content": null,
            "_view_module": "@jupyter-widgets/base",
            "overflow": null,
            "_model_module_version": "1.2.0",
            "_view_count": null,
            "flex_flow": null,
            "width": null,
            "min_width": null,
            "border": null,
            "align_items": null,
            "bottom": null,
            "_model_module": "@jupyter-widgets/base",
            "top": null,
            "grid_column": null,
            "overflow_y": null,
            "overflow_x": null,
            "grid_auto_flow": null,
            "grid_area": null,
            "grid_template_columns": null,
            "flex": null,
            "_model_name": "LayoutModel",
            "justify_items": null,
            "grid_row": null,
            "max_height": null,
            "align_content": null,
            "visibility": null,
            "align_self": null,
            "height": null,
            "min_height": null,
            "padding": null,
            "grid_auto_rows": null,
            "grid_gap": null,
            "max_width": null,
            "order": null,
            "_view_module_version": "1.2.0",
            "grid_template_areas": null,
            "object_position": null,
            "object_fit": null,
            "grid_auto_columns": null,
            "margin": null,
            "display": null,
            "left": null
          }
        },
        "9131afbe36774971916a199b3f1a4a9e": {
          "model_module": "@jupyter-widgets/controls",
          "model_name": "DescriptionStyleModel",
          "model_module_version": "1.5.0",
          "state": {
            "_view_name": "StyleView",
            "_model_name": "DescriptionStyleModel",
            "description_width": "",
            "_view_module": "@jupyter-widgets/base",
            "_model_module_version": "1.5.0",
            "_view_count": null,
            "_view_module_version": "1.2.0",
            "_model_module": "@jupyter-widgets/controls"
          }
        },
        "059edd4cba8e4c0084b1f4c94d4767df": {
          "model_module": "@jupyter-widgets/base",
          "model_name": "LayoutModel",
          "model_module_version": "1.2.0",
          "state": {
            "_view_name": "LayoutView",
            "grid_template_rows": null,
            "right": null,
            "justify_content": null,
            "_view_module": "@jupyter-widgets/base",
            "overflow": null,
            "_model_module_version": "1.2.0",
            "_view_count": null,
            "flex_flow": null,
            "width": null,
            "min_width": null,
            "border": null,
            "align_items": null,
            "bottom": null,
            "_model_module": "@jupyter-widgets/base",
            "top": null,
            "grid_column": null,
            "overflow_y": null,
            "overflow_x": null,
            "grid_auto_flow": null,
            "grid_area": null,
            "grid_template_columns": null,
            "flex": null,
            "_model_name": "LayoutModel",
            "justify_items": null,
            "grid_row": null,
            "max_height": null,
            "align_content": null,
            "visibility": null,
            "align_self": null,
            "height": null,
            "min_height": null,
            "padding": null,
            "grid_auto_rows": null,
            "grid_gap": null,
            "max_width": null,
            "order": null,
            "_view_module_version": "1.2.0",
            "grid_template_areas": null,
            "object_position": null,
            "object_fit": null,
            "grid_auto_columns": null,
            "margin": null,
            "display": null,
            "left": null
          }
        }
      }
    }
  },
  "cells": [
    {
      "cell_type": "markdown",
      "metadata": {
        "id": "view-in-github",
        "colab_type": "text"
      },
      "source": [
        "<a href=\"https://colab.research.google.com/github/ErickMM98/covid-ct-network-analysis/blob/main/own_3D_mfdfa_image_classification_Keras.ipynb\" target=\"_parent\"><img src=\"https://colab.research.google.com/assets/colab-badge.svg\" alt=\"Open In Colab\"/></a>"
      ]
    },
    {
      "cell_type": "markdown",
      "metadata": {
        "id": "lyow8yRwDjAj"
      },
      "source": [
        "# My own structure."
      ]
    },
    {
      "cell_type": "code",
      "metadata": {
        "colab": {
          "base_uri": "https://localhost:8080/"
        },
        "id": "zNHEEJRdYl7z",
        "outputId": "0a2e97c2-94b9-430b-cfb3-a04aec750637"
      },
      "source": [
        "#@title Mounting Drive (i don0t kown )\n",
        "\n",
        "from google.colab import drive\n",
        "drive.mount('/content/drive')"
      ],
      "execution_count": 1,
      "outputs": [
        {
          "output_type": "stream",
          "name": "stdout",
          "text": [
            "Mounted at /content/drive\n"
          ]
        }
      ]
    },
    {
      "cell_type": "code",
      "metadata": {
        "id": "n1pyoVfTDoto"
      },
      "source": [
        "#@title All packages\n",
        "\n",
        "import matplotlib.pyplot as plt\n",
        "import os\n",
        "import zipfile\n",
        "import numpy as np\n",
        "from natsort import natsorted, ns\n",
        "from tqdm.auto import tqdm\n",
        "from skimage.transform import resize\n",
        "import random\n",
        "\n",
        "from scipy import ndimage\n",
        "\n",
        "import tensorflow as tf\n",
        "from tensorflow import keras\n",
        "from tensorflow.keras import layers\n"
      ],
      "execution_count": 2,
      "outputs": []
    },
    {
      "cell_type": "code",
      "metadata": {
        "id": "tNGHgSr-EFgE"
      },
      "source": [
        "#@title General values and paths.\n",
        "\n",
        "path_binary_covid = '/content/drive/MyDrive/covid-ct-bronquial-tree/binary_arrays/covid'\n",
        "path_binary_normal = '/content/drive/MyDrive/covid-ct-bronquial-tree/binary_arrays/normal'\n",
        "\n",
        "lim_images = 30"
      ],
      "execution_count": 3,
      "outputs": []
    },
    {
      "cell_type": "markdown",
      "metadata": {
        "id": "TDl6RDzw9yDS"
      },
      "source": [
        "To make the model easier to understand, we structure it into blocks.\n",
        "The architecture of the 3D CNN used in this example\n",
        "is based on [this paper](https://arxiv.org/abs/2007.13224)."
      ]
    },
    {
      "cell_type": "code",
      "metadata": {
        "colab": {
          "base_uri": "https://localhost:8080/",
          "height": 49,
          "referenced_widgets": [
            "8054a755077148ad955b8f970d214fd6",
            "8e0c616028fc4333862b419edc217ea5",
            "18462a331734494dbd5dc60892ca20f5",
            "dffe35fde55c4539ae25a47c67239280",
            "e214392138d34c0ca1ef072b8bdc8d79",
            "1f30dbd12d514766affc9fa38509dd7f",
            "9c0c269005024e988893b18f01c4958e",
            "2364abda53cc4ee38ae31d3fe8f2a974",
            "a73fc25f36634794a631d6c0b793576e",
            "92671962b7324680bf261392028f2734",
            "4ae8d8fe274a470c8ba5a42faff09c8c"
          ]
        },
        "id": "-go-XzAtZt6A",
        "outputId": "1289d1d9-28ad-46f3-b17a-9e26228eead7"
      },
      "source": [
        "#@title Preparation of COVID cases\n",
        "foo_path = path_binary_covid\n",
        "array_covid_images = []\n",
        "array_covid_target = []\n",
        "\n",
        "for patid in tqdm(os.listdir(foo_path)):\n",
        "  path_images = os.path.join(foo_path, patid, 'images')\n",
        "  list_all_images = os.listdir(path_images)\n",
        "  sample_data = None\n",
        "  sort_images = None\n",
        "\n",
        "  array_imgs_patid = []\n",
        "\n",
        "  if len(list_all_images) > lim_images:\n",
        "    sample_data = np.random.choice(list_all_images,size= lim_images, replace=False)\n",
        "    sort_images = natsorted(sample_data)\n",
        "  else:\n",
        "    continue\n",
        "  \n",
        "  #Read the images\n",
        "  for img_py in sort_images:\n",
        "    path_single_image = os.path.join(path_images, img_py )\n",
        "    array_img = np.load(path_single_image)\n",
        "\n",
        "    min = 0\n",
        "    max = np.max(array_img.ravel())\n",
        "    array_img[array_img < min] = min\n",
        "    array_img[array_img > max] = max\n",
        "    array_img = (array_img - min) / (max - min)\n",
        "\n",
        "    image_resized = resize(array_img, (128, 128),\n",
        "                       anti_aliasing=True)\n",
        "    \n",
        "    array_imgs_patid.append( image_resized )\n",
        "\n",
        "  array_covid_images.append( array_imgs_patid )\n",
        "  array_covid_target.append( 1 )"
      ],
      "execution_count": 4,
      "outputs": [
        {
          "data": {
            "application/vnd.jupyter.widget-view+json": {
              "model_id": "8054a755077148ad955b8f970d214fd6",
              "version_major": 2,
              "version_minor": 0
            },
            "text/plain": [
              "  0%|          | 0/31 [00:00<?, ?it/s]"
            ]
          },
          "metadata": {},
          "output_type": "display_data"
        }
      ]
    },
    {
      "cell_type": "code",
      "metadata": {
        "colab": {
          "base_uri": "https://localhost:8080/",
          "height": 49,
          "referenced_widgets": [
            "47f93c8ed5f04175805320562f5caf1f",
            "2e8e872294b64b8b86f2566858aa4e8e",
            "9d953b93be6e47e489cf82a8e04d3444",
            "6fc756bfa9c34a7bb7806fa643a5b698",
            "03144b5011b04a64b18b79817ecb1265",
            "4205131140b14b4391bda3267ee3a4d7",
            "4c16146be28f47c495bbb5235ce3ce70",
            "245e93df7aad411a9df3f5288e1fa8bf",
            "a8e670e98f0245609ddaea0f5a83c182",
            "9131afbe36774971916a199b3f1a4a9e",
            "059edd4cba8e4c0084b1f4c94d4767df"
          ]
        },
        "id": "nDLA2zJ5FVsa",
        "outputId": "b2fde570-b95d-45cd-9ef7-3462767326d2"
      },
      "source": [
        "#@title Preparation of normal cases\n",
        "foo_path = path_binary_normal\n",
        "array_normal_images = []\n",
        "array_normal_target = []\n",
        "\n",
        "for patid in tqdm(os.listdir(foo_path)):\n",
        "  path_images = os.path.join(foo_path, patid, 'images')\n",
        "  list_all_images = os.listdir(path_images)\n",
        "  sample_data = None\n",
        "  sort_images = None\n",
        "\n",
        "  array_imgs_patid = []\n",
        "\n",
        "  if len(list_all_images) > lim_images:\n",
        "    sample_data = np.random.choice(list_all_images,size= lim_images, replace=False)\n",
        "    sort_images = natsorted(sample_data)\n",
        "  else:\n",
        "    continue\n",
        "  \n",
        "  #Read the images\n",
        "  for img_py in sort_images:\n",
        "    path_single_image = os.path.join(path_images, img_py )\n",
        "    array_img = np.load(path_single_image)\n",
        "\n",
        "    min = 0\n",
        "    max = np.max(array_img.ravel())\n",
        "    array_img[array_img < min] = min\n",
        "    array_img[array_img > max] = max\n",
        "    array_img = (array_img - min) / (max - min)\n",
        "\n",
        "    image_resized = resize(array_img, (128, 128),\n",
        "                       anti_aliasing=True)\n",
        "    array_imgs_patid.append( image_resized )\n",
        "\n",
        "  array_normal_images.append( array_imgs_patid )\n",
        "  array_normal_target.append( 1 )"
      ],
      "execution_count": 5,
      "outputs": [
        {
          "output_type": "display_data",
          "data": {
            "application/vnd.jupyter.widget-view+json": {
              "model_id": "47f93c8ed5f04175805320562f5caf1f",
              "version_minor": 0,
              "version_major": 2
            },
            "text/plain": [
              "  0%|          | 0/30 [00:00<?, ?it/s]"
            ]
          },
          "metadata": {}
        }
      ]
    },
    {
      "cell_type": "code",
      "metadata": {
        "id": "rae-bxfdHo9V"
      },
      "source": [
        "#@title Split data: Train and test datasets\n",
        "\n",
        "limit_split = 20\n",
        "\n",
        "normal_ct = np.array(array_normal_images).transpose(0,2,3,1).astype(np.float32)\n",
        "covid_ct = np.array(array_covid_images).transpose(0,2,3,1).astype(np.float32)\n",
        "\n",
        "\n",
        "\n",
        "normal_labels = np.array( array_normal_target )\n",
        "covid_labels = np.array( array_covid_target )\n",
        "\n",
        "x_train = np.concatenate((covid_ct[:limit_split], normal_ct[:limit_split]), axis=0)\n",
        "y_train = np.concatenate((covid_labels[:limit_split], normal_labels[:limit_split]), axis=0)\n",
        "x_val = np.concatenate((covid_ct[limit_split:], normal_ct[limit_split:]), axis=0)\n",
        "y_val = np.concatenate((covid_labels[limit_split:], normal_labels[limit_split:]), axis=0)\n",
        "\n",
        "#fig, ax = plt.subplots()\n",
        "#ax.imshow(covid_ct[0][:, :, 5] )\n",
        "#ax.hist(normal_ct[0][:, :, 5].ravel() )\n",
        "#plt.imshow(np.squeeze(image[:, :, 5]), cmap=\"gray\")"
      ],
      "execution_count": 6,
      "outputs": []
    },
    {
      "cell_type": "code",
      "metadata": {
        "id": "rmiPr95ZH4_2"
      },
      "source": [
        "@tf.function\n",
        "def rotate(volume):\n",
        "    \"\"\"Rotate the volume by a few degrees\"\"\"\n",
        "\n",
        "    def scipy_rotate(volume):\n",
        "        # define some rotation angles\n",
        "        angles = [-20, -10, -5, 5, 10, 20]\n",
        "        # pick angles at random\n",
        "        angle = random.choice(angles)\n",
        "        # rotate volume\n",
        "        volume = ndimage.rotate(volume, angle, reshape=False)\n",
        "        volume[volume < 0] = 0\n",
        "        volume[volume > 1] = 1\n",
        "        return volume\n",
        "\n",
        "    augmented_volume = tf.numpy_function(scipy_rotate, [volume], tf.float32)\n",
        "    return augmented_volume\n",
        "\n",
        "\n",
        "def train_preprocessing(volume, label):\n",
        "    \"\"\"Process training data by rotating and adding a channel.\"\"\"\n",
        "    # Rotate volume\n",
        "    volume = rotate(volume)\n",
        "    volume = tf.expand_dims(volume, axis=3)\n",
        "    return volume, label\n",
        "\n",
        "\n",
        "def validation_preprocessing(volume, label):\n",
        "    \"\"\"Process validation data by only adding a channel.\"\"\"\n",
        "    volume = tf.expand_dims(volume, axis=3)\n",
        "    return volume, label"
      ],
      "execution_count": 7,
      "outputs": []
    },
    {
      "cell_type": "code",
      "metadata": {
        "id": "2o7em1PtPKMW"
      },
      "source": [
        "# Define data loaders.\n",
        "train_loader = tf.data.Dataset.from_tensor_slices((x_train, y_train))\n",
        "validation_loader = tf.data.Dataset.from_tensor_slices((x_val, y_val))\n",
        "\n",
        "batch_size = 2\n",
        "# Augment the on the fly during training.\n",
        "train_dataset = (\n",
        "    train_loader.shuffle(len(x_train))\n",
        "    .map(train_preprocessing)\n",
        "    .batch(batch_size)\n",
        "    .prefetch(2)\n",
        ")\n",
        "# Only rescale.\n",
        "validation_dataset = (\n",
        "    validation_loader.shuffle(len(x_val))\n",
        "    .map(validation_preprocessing)\n",
        "    .batch(batch_size)\n",
        "    .prefetch(2)\n",
        ")"
      ],
      "execution_count": 8,
      "outputs": []
    },
    {
      "cell_type": "code",
      "metadata": {
        "colab": {
          "base_uri": "https://localhost:8080/",
          "height": 302
        },
        "id": "eX7L4CuSYx6U",
        "outputId": "d2cc4321-c69d-4f96-bec6-0e1d4af87fd0"
      },
      "source": [
        "data = train_dataset.take(1)\n",
        "images, labels = list(data)[0]\n",
        "images = images.numpy()\n",
        "image = images[0]\n",
        "print(\"Dimension of the CT scan is:\", image.shape)\n",
        "\n",
        "fig, ax = plt.subplots()\n",
        "plt.imshow(np.squeeze(image[:, :, 5]), cmap=\"gray\")"
      ],
      "execution_count": 9,
      "outputs": [
        {
          "output_type": "stream",
          "name": "stdout",
          "text": [
            "Dimension of the CT scan is: (128, 128, 30, 1)\n"
          ]
        },
        {
          "output_type": "execute_result",
          "data": {
            "text/plain": [
              "<matplotlib.image.AxesImage at 0x7fd690538210>"
            ]
          },
          "metadata": {},
          "execution_count": 9
        },
        {
          "output_type": "display_data",
          "data": {
            "image/png": "[encoded data removed]",
            "text/plain": [
              "<Figure size 432x288 with 1 Axes>"
            ]
          },
          "metadata": {
            "needs_background": "light"
          }
        }
      ]
    },
    {
      "cell_type": "markdown",
      "metadata": {
        "id": "MrVWlzqOGCI0"
      },
      "source": [
        "# The model"
      ]
    },
    {
      "cell_type": "code",
      "metadata": {
        "id": "1-1h2FoP9yDT",
        "colab": {
          "base_uri": "https://localhost:8080/"
        },
        "outputId": "f486a8fe-7b28-48e8-8125-404fa39766fe"
      },
      "source": [
        "#@title Define a 3D convolutional neural network\n",
        "\n",
        "def get_model(width=128, height=128, depth=64):\n",
        "    \"\"\"Build a 3D convolutional neural network model.\"\"\"\n",
        "\n",
        "    inputs = keras.Input((width, height, depth, 1))\n",
        "\n",
        "    x = layers.Conv3D(filters=64, kernel_size=3, activation=\"relu\")(inputs)\n",
        "    x = layers.MaxPool3D(pool_size=2)(x)\n",
        "    x = layers.BatchNormalization()(x)\n",
        "\n",
        "    x = layers.Conv3D(filters=64, kernel_size=3, activation=\"relu\")(x)\n",
        "    x = layers.MaxPool3D(pool_size=2)(x)\n",
        "    x = layers.BatchNormalization()(x)\n",
        "\n",
        "    x = layers.Conv3D(filters=128, kernel_size=3, activation=\"relu\")(x)\n",
        "    x = layers.MaxPool3D(pool_size=2)(x)\n",
        "    x = layers.BatchNormalization()(x)\n",
        "\n",
        "    x = layers.Conv3D(filters=256, kernel_size=3, activation=\"relu\", padding='same')(x)\n",
        "    x = layers.MaxPool3D(pool_size=2)(x)\n",
        "    x = layers.BatchNormalization()(x)\n",
        "\n",
        "    x = layers.GlobalAveragePooling3D()(x)\n",
        "    x = layers.Dense(units=512, activation=\"relu\")(x)\n",
        "    x = layers.Dropout(0.3)(x)\n",
        "\n",
        "    outputs = layers.Dense(units=1, activation=\"sigmoid\")(x)\n",
        "\n",
        "    # Define the model.\n",
        "    model = keras.Model(inputs, outputs, name=\"3dcnn\")\n",
        "    return model\n",
        "\n",
        "\n",
        "# Build model.\n",
        "model = get_model(width=128, height=128, depth=30)\n",
        "model.summary()"
      ],
      "execution_count": 10,
      "outputs": [
        {
          "output_type": "stream",
          "name": "stdout",
          "text": [
            "Model: \"3dcnn\"\n",
            "_________________________________________________________________\n",
            "Layer (type)                 Output Shape              Param #   \n",
            "=================================================================\n",
            "input_1 (InputLayer)         [(None, 128, 128, 30, 1)] 0         \n",
            "_________________________________________________________________\n",
            "conv3d (Conv3D)              (None, 126, 126, 28, 64)  1792      \n",
            "_________________________________________________________________\n",
            "max_pooling3d (MaxPooling3D) (None, 63, 63, 14, 64)    0         \n",
            "_________________________________________________________________\n",
            "batch_normalization (BatchNo (None, 63, 63, 14, 64)    256       \n",
            "_________________________________________________________________\n",
            "conv3d_1 (Conv3D)            (None, 61, 61, 12, 64)    110656    \n",
            "_________________________________________________________________\n",
            "max_pooling3d_1 (MaxPooling3 (None, 30, 30, 6, 64)     0         \n",
            "_________________________________________________________________\n",
            "batch_normalization_1 (Batch (None, 30, 30, 6, 64)     256       \n",
            "_________________________________________________________________\n",
            "conv3d_2 (Conv3D)            (None, 28, 28, 4, 128)    221312    \n",
            "_________________________________________________________________\n",
            "max_pooling3d_2 (MaxPooling3 (None, 14, 14, 2, 128)    0         \n",
            "_________________________________________________________________\n",
            "batch_normalization_2 (Batch (None, 14, 14, 2, 128)    512       \n",
            "_________________________________________________________________\n",
            "conv3d_3 (Conv3D)            (None, 14, 14, 2, 256)    884992    \n",
            "_________________________________________________________________\n",
            "max_pooling3d_3 (MaxPooling3 (None, 7, 7, 1, 256)      0         \n",
            "_________________________________________________________________\n",
            "batch_normalization_3 (Batch (None, 7, 7, 1, 256)      1024      \n",
            "_________________________________________________________________\n",
            "global_average_pooling3d (Gl (None, 256)               0         \n",
            "_________________________________________________________________\n",
            "dense (Dense)                (None, 512)               131584    \n",
            "_________________________________________________________________\n",
            "dropout (Dropout)            (None, 512)               0         \n",
            "_________________________________________________________________\n",
            "dense_1 (Dense)              (None, 1)                 513       \n",
            "=================================================================\n",
            "Total params: 1,352,897\n",
            "Trainable params: 1,351,873\n",
            "Non-trainable params: 1,024\n",
            "_________________________________________________________________\n"
          ]
        }
      ]
    },
    {
      "cell_type": "markdown",
      "metadata": {
        "id": "aIXMrWtP9yDT"
      },
      "source": [
        "## Train model"
      ]
    },
    {
      "cell_type": "code",
      "metadata": {
        "id": "O8vF4R019yDU",
        "colab": {
          "base_uri": "https://localhost:8080/"
        },
        "outputId": "74aeb7cb-6baf-4c3a-ea5a-b6c5eb438b19"
      },
      "source": [
        "# Compile model.\n",
        "initial_learning_rate = 0.0001\n",
        "lr_schedule = keras.optimizers.schedules.ExponentialDecay(\n",
        "    initial_learning_rate, decay_steps=100000, decay_rate=0.96, staircase=True\n",
        ")\n",
        "model.compile(\n",
        "    loss=\"binary_crossentropy\",\n",
        "    optimizer=keras.optimizers.Adam(learning_rate=lr_schedule),\n",
        "    metrics=[\"acc\"],\n",
        ")\n",
        "\n",
        "# Define callbacks.\n",
        "checkpoint_cb = keras.callbacks.ModelCheckpoint(\n",
        "    \"3d_image_classification.h5\", save_best_only=True\n",
        ")\n",
        "early_stopping_cb = keras.callbacks.EarlyStopping(monitor=\"val_acc\", patience=15)\n",
        "\n",
        "# Train the model, doing validation at the end of each epoch\n",
        "epochs = 100\n",
        "model.fit(\n",
        "    train_dataset,\n",
        "    validation_data=validation_dataset,\n",
        "    epochs=epochs,\n",
        "    shuffle=True,\n",
        "    verbose=2,\n",
        "    callbacks=[checkpoint_cb, early_stopping_cb],\n",
        ")"
      ],
      "execution_count": 11,
      "outputs": [
        {
          "output_type": "stream",
          "name": "stdout",
          "text": [
            "Epoch 1/100\n",
            "20/20 - 36s - loss: 0.5008 - acc: 0.9500 - val_loss: 0.5227 - val_acc: 1.0000\n",
            "Epoch 2/100\n",
            "20/20 - 5s - loss: 0.2891 - acc: 1.0000 - val_loss: 0.2557 - val_acc: 1.0000\n",
            "Epoch 3/100\n",
            "20/20 - 5s - loss: 0.2172 - acc: 1.0000 - val_loss: 0.0669 - val_acc: 1.0000\n",
            "Epoch 4/100\n",
            "20/20 - 5s - loss: 0.1565 - acc: 1.0000 - val_loss: 0.0196 - val_acc: 1.0000\n",
            "Epoch 5/100\n",
            "20/20 - 5s - loss: 0.0758 - acc: 1.0000 - val_loss: 0.0074 - val_acc: 1.0000\n",
            "Epoch 6/100\n",
            "20/20 - 5s - loss: 0.1104 - acc: 1.0000 - val_loss: 0.0033 - val_acc: 1.0000\n",
            "Epoch 7/100\n",
            "20/20 - 5s - loss: 0.0897 - acc: 1.0000 - val_loss: 0.0013 - val_acc: 1.0000\n",
            "Epoch 8/100\n",
            "20/20 - 5s - loss: 0.0736 - acc: 1.0000 - val_loss: 6.2137e-04 - val_acc: 1.0000\n",
            "Epoch 9/100\n",
            "20/20 - 5s - loss: 0.0550 - acc: 1.0000 - val_loss: 2.6985e-04 - val_acc: 1.0000\n",
            "Epoch 10/100\n",
            "20/20 - 5s - loss: 0.0339 - acc: 1.0000 - val_loss: 2.6223e-04 - val_acc: 1.0000\n",
            "Epoch 11/100\n",
            "20/20 - 5s - loss: 0.0120 - acc: 1.0000 - val_loss: 3.2807e-04 - val_acc: 1.0000\n",
            "Epoch 12/100\n",
            "20/20 - 5s - loss: 0.0684 - acc: 1.0000 - val_loss: 2.0050e-04 - val_acc: 1.0000\n",
            "Epoch 13/100\n",
            "20/20 - 5s - loss: 0.0216 - acc: 1.0000 - val_loss: 1.4922e-04 - val_acc: 1.0000\n",
            "Epoch 14/100\n",
            "20/20 - 5s - loss: 0.0283 - acc: 1.0000 - val_loss: 1.0037e-04 - val_acc: 1.0000\n",
            "Epoch 15/100\n",
            "20/20 - 5s - loss: 0.0349 - acc: 1.0000 - val_loss: 1.4765e-05 - val_acc: 1.0000\n",
            "Epoch 16/100\n",
            "20/20 - 5s - loss: 0.0139 - acc: 1.0000 - val_loss: 5.8912e-06 - val_acc: 1.0000\n"
          ]
        },
        {
          "output_type": "execute_result",
          "data": {
            "text/plain": [
              "<keras.callbacks.History at 0x7fd6904afd50>"
            ]
          },
          "metadata": {},
          "execution_count": 11
        }
      ]
    },
    {
      "cell_type": "code",
      "metadata": {
        "colab": {
          "base_uri": "https://localhost:8080/",
          "height": 228
        },
        "id": "-t1RQuGbeXFC",
        "outputId": "ee17304c-638c-434d-e651-7bc2718ca1df"
      },
      "source": [
        "fig, ax = plt.subplots(1, 2, figsize=(20, 3))\n",
        "ax = ax.ravel()\n",
        "\n",
        "for i, metric in enumerate([\"acc\", \"loss\"]):\n",
        "    ax[i].plot(model.history.history[metric])\n",
        "    ax[i].plot(model.history.history[\"val_\" + metric])\n",
        "    ax[i].set_title(\"Model {}\".format(metric))\n",
        "    ax[i].set_xlabel(\"epochs\")\n",
        "    ax[i].set_ylabel(metric)\n",
        "    ax[i].legend([\"train\", \"val\"])"
      ],
      "execution_count": 13,
      "outputs": [
        {
          "output_type": "display_data",
          "data": {
            "image/png": "[encoded data removed]",
            "text/plain": [
              "<Figure size 1440x216 with 2 Axes>"
            ]
          },
          "metadata": {
            "needs_background": "light"
          }
        }
      ]
    },
    {
      "cell_type": "code",
      "metadata": {
        "colab": {
          "base_uri": "https://localhost:8080/",
          "height": 319
        },
        "id": "bMep61PYewbS",
        "outputId": "ab9dc73a-027b-4a1d-95fa-adefc69c8943"
      },
      "source": [
        "model.load_weights(\"3d_image_classification.h5\")\n",
        "x_val[0][:,:,1]\n",
        "prediction = model.predict(np.expand_dims(x_val[0], axis=0))[0]\n",
        "scores = [1 - prediction[0], prediction[0]]\n",
        "\n",
        "class_names = [\"normal\", \"abnormal\"]\n",
        "for score, name in zip(scores, class_names):\n",
        "    print(\n",
        "        \"This model is %.2f percent confident that CT scan is %s\"\n",
        "        % ((100 * score), name)\n",
        "    )\n",
        "\n",
        "plt.imshow(x_val[0][:,:,1])"
      ],
      "execution_count": 20,
      "outputs": [
        {
          "output_type": "stream",
          "name": "stdout",
          "text": [
            "This model is 0.00 percent confident that CT scan is normal\n",
            "This model is 100.00 percent confident that CT scan is abnormal\n"
          ]
        },
        {
          "output_type": "execute_result",
          "data": {
            "text/plain": [
              "<matplotlib.image.AxesImage at 0x7fd61e9ad810>"
            ]
          },
          "metadata": {},
          "execution_count": 20
        },
        {
          "output_type": "display_data",
          "data": {
            "image/png": "[encoded data removed]",
            "text/plain": [
              "<Figure size 432x288 with 1 Axes>"
            ]
          },
          "metadata": {
            "needs_background": "light"
          }
        }
      ]
    },
    {
      "cell_type": "code",
      "metadata": {
        "colab": {
          "base_uri": "https://localhost:8080/"
        },
        "id": "UsoDbvRbfdgQ",
        "outputId": "82d92bc4-893d-450e-d175-e868d0922923"
      },
      "source": [
        "x_val.shape\n",
        "y_val"
      ],
      "execution_count": 22,
      "outputs": [
        {
          "output_type": "execute_result",
          "data": {
            "text/plain": [
              "array([1, 1, 1, 1, 1, 1, 1, 1, 1, 1, 1, 1, 1, 1, 1, 1, 1, 1])"
            ]
          },
          "metadata": {},
          "execution_count": 22
        }
      ]
    },
    {
      "cell_type": "markdown",
      "metadata": {
        "id": "Mp_RE-ByZmsf"
      },
      "source": [
        "# Some test codes in order to confirm it."
      ]
    }
  ]
}